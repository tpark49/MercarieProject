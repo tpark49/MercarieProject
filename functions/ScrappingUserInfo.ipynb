{
 "cells": [
  {
   "cell_type": "code",
   "execution_count": 13,
   "metadata": {},
   "outputs": [],
   "source": [
    "from bs4 import BeautifulSoup\n",
    "import pandas as pd\n",
    "import numpy as np \n",
    "import matplotlib.pyplot as plt\n",
    "import requests\n",
    "from selenium import webdriver\n",
    "import time \n",
    "from selenium.webdriver.support import expected_conditions as EC\n",
    "from selenium.webdriver.support.ui import WebDriverWait\n",
    "from selenium.webdriver.common.by import By\n",
    "from urllib.parse import urljoin\n",
    "import csv\n",
    "import re\n"
   ]
  },
  {
   "cell_type": "code",
   "execution_count": 20,
   "metadata": {},
   "outputs": [],
   "source": [
    "def get_user_url(product_urls):\n",
    "    headers = {'User-Agent': 'Mozilla/5.0 (Macintosh; Intel Mac OS X 10_15_7) AppleWebKit/537.36 (KHTML, like Gecko) Chrome/93.0.4577.82 Safari/537.36'}\n",
    "\n",
    "    list_user_urls = []\n",
    "    \n",
    "    #Scrapping for User profile URLs\n",
    "    for product_url in product_urls:\n",
    "        response = requests.get(product_url, headers=headers)\n",
    "        text = BeautifulSoup(response.text, \"html.parser\")\n",
    "        \n",
    "        if text.find(\"a\", attrs = {\"class\":\"Link__RawAnchor-dkjuk2-2 gvHGid Button__BaseButton-xht50r-0 bgXKXK\"}):\n",
    "            \n",
    "            \n",
    "            href = text.find(\"a\", attrs = {\"class\":\"Link__RawAnchor-dkjuk2-2 gvHGid Button__BaseButton-xht50r-0 bgXKXK\"})[\"href\"]\n",
    "                        \n",
    "            #once we have profile URLs, we can grab user-specific URLs which we will feed into\n",
    "            #scrapping_data function to scrape for their features\n",
    "\n",
    "            page = 1\n",
    "            \n",
    "            while True: \n",
    "                user_url = f\"https://www.mercari.com{href}?page={page}\"\n",
    "                driver = webdriver.Chrome()\n",
    "                driver.get(user_url)\n",
    "                \n",
    "                time.sleep(3)\n",
    "                \n",
    "                #check if no items were found - if so, break and close chrome driver\n",
    "                \n",
    "                result = re.findall('/us/item/m\\d+', driver.page_source)\n",
    "                \n",
    "                if result == [] or result is None: \n",
    "                    break\n",
    "                else: \n",
    "                    list_user_urls += [f\"https://www.mercari.com{i}\" for i in result] \n",
    "                    \n",
    "                driver.close()\n",
    "                page+=1\n",
    "                \n",
    "    \n",
    "        return list_user_urls\n"
   ]
  },
  {
   "cell_type": "code",
   "execution_count": 21,
   "metadata": {},
   "outputs": [],
   "source": [
    "url = [\"https://www.mercari.com/us/item/m35606987915/\"]"
   ]
  },
  {
   "cell_type": "code",
   "execution_count": 23,
   "metadata": {
    "scrolled": true
   },
   "outputs": [
    {
     "data": {
      "text/plain": [
       "['https://www.mercari.com/us/item/m35606987915',\n",
       " 'https://www.mercari.com/us/item/m35606987915',\n",
       " 'https://www.mercari.com/us/item/m87432695275',\n",
       " 'https://www.mercari.com/us/item/m87432695275',\n",
       " 'https://www.mercari.com/us/item/m69997312146',\n",
       " 'https://www.mercari.com/us/item/m69997312146',\n",
       " 'https://www.mercari.com/us/item/m21162652249',\n",
       " 'https://www.mercari.com/us/item/m21162652249',\n",
       " 'https://www.mercari.com/us/item/m45113388028',\n",
       " 'https://www.mercari.com/us/item/m45113388028',\n",
       " 'https://www.mercari.com/us/item/m74703590959',\n",
       " 'https://www.mercari.com/us/item/m74703590959',\n",
       " 'https://www.mercari.com/us/item/m44582924059',\n",
       " 'https://www.mercari.com/us/item/m44582924059',\n",
       " 'https://www.mercari.com/us/item/m31615372569',\n",
       " 'https://www.mercari.com/us/item/m31615372569',\n",
       " 'https://www.mercari.com/us/item/m83128776880',\n",
       " 'https://www.mercari.com/us/item/m83128776880',\n",
       " 'https://www.mercari.com/us/item/m32829985713',\n",
       " 'https://www.mercari.com/us/item/m32829985713',\n",
       " 'https://www.mercari.com/us/item/m52397154035',\n",
       " 'https://www.mercari.com/us/item/m52397154035',\n",
       " 'https://www.mercari.com/us/item/m28152659878',\n",
       " 'https://www.mercari.com/us/item/m28152659878',\n",
       " 'https://www.mercari.com/us/item/m48491983468',\n",
       " 'https://www.mercari.com/us/item/m48491983468',\n",
       " 'https://www.mercari.com/us/item/m92862438118',\n",
       " 'https://www.mercari.com/us/item/m92862438118',\n",
       " 'https://www.mercari.com/us/item/m98591542098',\n",
       " 'https://www.mercari.com/us/item/m98591542098',\n",
       " 'https://www.mercari.com/us/item/m62264792996',\n",
       " 'https://www.mercari.com/us/item/m62264792996',\n",
       " 'https://www.mercari.com/us/item/m74330574369',\n",
       " 'https://www.mercari.com/us/item/m74330574369',\n",
       " 'https://www.mercari.com/us/item/m34397165044',\n",
       " 'https://www.mercari.com/us/item/m34397165044',\n",
       " 'https://www.mercari.com/us/item/m30061084470',\n",
       " 'https://www.mercari.com/us/item/m30061084470',\n",
       " 'https://www.mercari.com/us/item/m22706674835',\n",
       " 'https://www.mercari.com/us/item/m22706674835',\n",
       " 'https://www.mercari.com/us/item/m95133933145',\n",
       " 'https://www.mercari.com/us/item/m95133933145',\n",
       " 'https://www.mercari.com/us/item/m80789262604',\n",
       " 'https://www.mercari.com/us/item/m80789262604',\n",
       " 'https://www.mercari.com/us/item/m17602920906',\n",
       " 'https://www.mercari.com/us/item/m17602920906',\n",
       " 'https://www.mercari.com/us/item/m82315930494',\n",
       " 'https://www.mercari.com/us/item/m82315930494',\n",
       " 'https://www.mercari.com/us/item/m28536428740',\n",
       " 'https://www.mercari.com/us/item/m28536428740']"
      ]
     },
     "execution_count": 23,
     "metadata": {},
     "output_type": "execute_result"
    }
   ],
   "source": [
    "get_user_url(url)"
   ]
  }
 ],
 "metadata": {
  "kernelspec": {
   "display_name": "Python 3 (ipykernel)",
   "display_name": "Python 3",
   "language": "python",
   "name": "python3"
  },
  "language_info": {
   "codemirror_mode": {
    "name": "ipython",
    "version": 3
   },
   "file_extension": ".py",
   "mimetype": "text/x-python",
   "name": "python",
   "nbconvert_exporter": "python",
   "pygments_lexer": "ipython3",
   "version": "3.7.3"
  }
 },
 "nbformat": 4,
 "nbformat_minor": 2
}
